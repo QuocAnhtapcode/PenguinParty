{
 "cells": [
  {
   "cell_type": "code",
   "execution_count": 19,
   "id": "f9144617",
   "metadata": {},
   "outputs": [
    {
     "name": "stdout",
     "output_type": "stream",
     "text": [
      "2756968\n",
      "1444621\n",
      "   turn board                                               hand  pos   color  \\\n",
      "0     0    {}  [yellow, green, red, red, red, yellow, blue, g...  1-7     red   \n",
      "1     0    {}  [yellow, green, red, red, red, yellow, blue, g...  1-7  yellow   \n",
      "2     0    {}  [yellow, green, red, red, red, yellow, blue, g...  1-7  purple   \n",
      "3     0    {}  [yellow, green, red, red, red, yellow, blue, g...  1-7    blue   \n",
      "4     0    {}  [yellow, green, red, red, red, yellow, blue, g...  1-7   green   \n",
      "\n",
      "   label  winner  \n",
      "0      0       0  \n",
      "1      0       0  \n",
      "2      1       0  \n",
      "3      0       0  \n",
      "4      0       0  \n",
      "label\n",
      "0    1246450\n",
      "1     198171\n",
      "Name: count, dtype: int64\n"
     ]
    }
   ],
   "source": [
    "import pandas as pd\n",
    "\n",
    "df = pd.read_json(\"penguin_party_20000_dataset.jsonl\", lines=True)\n",
    "# Giữ lại các lượt đi của người thắng\n",
    "df_win = df[df['turn'] == df['winner']]\n",
    "\n",
    "print(len(df))\n",
    "print(len(df_win))\n",
    "print(df_win.head())\n",
    "print(df_win.label.value_counts())"
   ]
  },
  {
   "cell_type": "code",
   "execution_count": 20,
   "id": "cada4478",
   "metadata": {},
   "outputs": [
    {
     "name": "stdout",
     "output_type": "stream",
     "text": [
      "(1444621, 17) (1444621,)\n"
     ]
    }
   ],
   "source": [
    "import numpy as np\n",
    "\n",
    "colors = [\"green\", \"red\", \"blue\", \"yellow\", \"purple\"]\n",
    "\n",
    "def encode_board(board):\n",
    "    cnt = [0]*5\n",
    "    for v in board.values():\n",
    "        if v in colors:\n",
    "            cnt[colors.index(v)] += 1\n",
    "    return cnt\n",
    "\n",
    "def encode_hand(hand):\n",
    "    return [hand.count(c) for c in colors]\n",
    "\n",
    "def encode_sample(row):\n",
    "    bvec = encode_board(row['board'])\n",
    "    hvec = encode_hand(row['hand'])\n",
    "    row_idx, col_idx = [int(x) for x in row['pos'].split('-')]\n",
    "    color_oh = [0]*5\n",
    "    color_oh[colors.index(row['color'])] = 1\n",
    "    return hvec + bvec + [row_idx, col_idx] + color_oh\n",
    "\n",
    "X = np.array([encode_sample(r) for i, r in df_win.iterrows()])\n",
    "y = df_win['label'].values\n",
    "print(X.shape, y.shape)"
   ]
  },
  {
   "cell_type": "code",
   "execution_count": 21,
   "id": "d9826bd3",
   "metadata": {},
   "outputs": [
    {
     "name": "stdout",
     "output_type": "stream",
     "text": [
      "Train label distribution: [1121804  178354]\n",
      "Test label distribution:  [124646  19817]\n"
     ]
    }
   ],
   "source": [
    "from sklearn.model_selection import train_test_split\n",
    "\n",
    "X_train, X_test, y_train, y_test = train_test_split(\n",
    "    X, y, test_size=0.1, random_state=42, stratify=y\n",
    ")\n",
    "print(\"Train label distribution:\", np.bincount(y_train))\n",
    "print(\"Test label distribution: \", np.bincount(y_test))"
   ]
  },
  {
   "cell_type": "code",
   "execution_count": 22,
   "id": "89cbc825",
   "metadata": {},
   "outputs": [
    {
     "name": "stderr",
     "output_type": "stream",
     "text": [
      "  0%|          | 0/4 [00:00<?, ?it/s]"
     ]
    },
    {
     "name": "stdout",
     "output_type": "stream",
     "text": [
      "\n",
      "Training model: RandomForest\n"
     ]
    },
    {
     "name": "stderr",
     "output_type": "stream",
     "text": [
      " 25%|██▌       | 1/4 [02:36<07:50, 156.77s/it]"
     ]
    },
    {
     "name": "stdout",
     "output_type": "stream",
     "text": [
      "Finished RandomForest\n",
      "\n",
      "Training model: LogisticRegression\n"
     ]
    },
    {
     "name": "stderr",
     "output_type": "stream",
     "text": [
      " 50%|█████     | 2/4 [02:38<02:11, 65.81s/it] "
     ]
    },
    {
     "name": "stdout",
     "output_type": "stream",
     "text": [
      "Finished LogisticRegression\n",
      "\n",
      "Training model: DecisionTree\n"
     ]
    },
    {
     "name": "stderr",
     "output_type": "stream",
     "text": [
      " 75%|███████▌  | 3/4 [02:46<00:39, 39.44s/it]"
     ]
    },
    {
     "name": "stdout",
     "output_type": "stream",
     "text": [
      "Finished DecisionTree\n",
      "\n",
      "Training model: XGBoost\n"
     ]
    },
    {
     "name": "stderr",
     "output_type": "stream",
     "text": [
      "c:\\Users\\Admin\\anaconda3\\envs\\sad\\lib\\site-packages\\xgboost\\training.py:183: UserWarning: [11:14:36] WARNING: C:\\actions-runner\\_work\\xgboost\\xgboost\\src\\learner.cc:738: \n",
      "Parameters: { \"use_label_encoder\" } are not used.\n",
      "\n",
      "  bst.update(dtrain, iteration=i, fobj=obj)\n",
      "100%|██████████| 4/4 [02:48<00:00, 42.05s/it]"
     ]
    },
    {
     "name": "stdout",
     "output_type": "stream",
     "text": [
      "Finished XGBoost\n"
     ]
    },
    {
     "name": "stderr",
     "output_type": "stream",
     "text": [
      "\n"
     ]
    }
   ],
   "source": [
    "from sklearn.ensemble import RandomForestClassifier\n",
    "from sklearn.linear_model import LogisticRegression\n",
    "from sklearn.tree import DecisionTreeClassifier\n",
    "from sklearn.neighbors import KNeighborsClassifier\n",
    "from xgboost import XGBClassifier\n",
    "from tqdm import tqdm\n",
    "\n",
    "models = {\n",
    "    \"RandomForest\": RandomForestClassifier(n_estimators=100, class_weight='balanced', random_state=42),\n",
    "    \"LogisticRegression\": LogisticRegression(max_iter=500, class_weight='balanced'),\n",
    "    \"DecisionTree\": DecisionTreeClassifier(class_weight='balanced'),\n",
    "    \"XGBoost\": XGBClassifier(use_label_encoder=False, eval_metric='logloss', verbosity=1)\n",
    "}\n",
    "\n",
    "fitted_models = {}\n",
    "scores_log = {}\n",
    "\n",
    "for name, model in tqdm(models.items()):\n",
    "    print(f\"\\nTraining model: {name}\")\n",
    "    model.fit(X_train, y_train)\n",
    "    fitted_models[name] = model\n",
    "    print(f\"Finished {name}\")"
   ]
  },
  {
   "cell_type": "code",
   "execution_count": 23,
   "id": "c711c8af",
   "metadata": {},
   "outputs": [
    {
     "name": "stdout",
     "output_type": "stream",
     "text": [
      "\n",
      "RandomForest:\n",
      "  Accuracy: 0.8271  Precision: 0.2898  Recall: 0.1794  F1: 0.2216  AUC: 0.6325\n",
      "  Confusion Matrix:\n",
      "[[115932   8714]\n",
      " [ 16261   3556]]\n",
      "\n",
      "LogisticRegression:\n",
      "  Accuracy: 0.7076  Precision: 0.2475  Recall: 0.5545  F1: 0.3423  AUC: 0.6547\n",
      "  Confusion Matrix:\n",
      "[[91239 33407]\n",
      " [ 8828 10989]]\n",
      "\n",
      "DecisionTree:\n",
      "  Accuracy: 0.7562  Precision: 0.1956  Recall: 0.2497  F1: 0.2194  AUC: 0.5437\n",
      "  Confusion Matrix:\n",
      "[[104290  20356]\n",
      " [ 14868   4949]]\n",
      "\n",
      "XGBoost:\n",
      "  Accuracy: 0.8723  Precision: 0.6431  Recall: 0.1552  F1: 0.2501  AUC: 0.7258\n",
      "  Confusion Matrix:\n",
      "[[122939   1707]\n",
      " [ 16741   3076]]\n"
     ]
    }
   ],
   "source": [
    "from sklearn.metrics import accuracy_score, precision_score, recall_score, f1_score, roc_auc_score, confusion_matrix\n",
    "\n",
    "metric_names = [\"Accuracy\", \"Precision\", \"Recall\", \"F1\", \"AUC\"]\n",
    "scores_log = {name: {} for name in models.keys()}\n",
    "\n",
    "for name, model in fitted_models.items():\n",
    "    y_pred = model.predict(X_test)\n",
    "    y_prob = model.predict_proba(X_test)[:,1] if hasattr(model, \"predict_proba\") else None\n",
    "\n",
    "    acc = accuracy_score(y_test, y_pred)\n",
    "    prec = precision_score(y_test, y_pred, zero_division=0)\n",
    "    rec = recall_score(y_test, y_pred, zero_division=0)\n",
    "    f1 = f1_score(y_test, y_pred, zero_division=0)\n",
    "    auc = roc_auc_score(y_test, y_prob) if y_prob is not None else None\n",
    "\n",
    "    scores_log[name][\"Accuracy\"] = acc\n",
    "    scores_log[name][\"Precision\"] = prec\n",
    "    scores_log[name][\"Recall\"] = rec\n",
    "    scores_log[name][\"F1\"] = f1\n",
    "    scores_log[name][\"AUC\"] = auc\n",
    "\n",
    "    print(f\"\\n{name}:\\n  Accuracy: {acc:.4f}  Precision: {prec:.4f}  Recall: {rec:.4f}  F1: {f1:.4f}  AUC: {auc:.4f}\")\n",
    "    print(f\"  Confusion Matrix:\\n{confusion_matrix(y_test, y_pred)}\")"
   ]
  },
  {
   "cell_type": "code",
   "execution_count": 24,
   "id": "b07e6013",
   "metadata": {},
   "outputs": [
    {
     "data": {
      "image/png": "[encoded data removed]",
      "text/plain": [
       "<Figure size 1200x600 with 1 Axes>"
      ]
     },
     "metadata": {},
     "output_type": "display_data"
    }
   ],
   "source": [
    "import matplotlib.pyplot as plt\n",
    "import numpy as np\n",
    "import pandas as pd\n",
    "\n",
    "# Convert scores_log thành DataFrame để dễ plot\n",
    "df_score = pd.DataFrame(scores_log).T[metric_names]\n",
    "\n",
    "# Vẽ cột nhóm cho từng metric\n",
    "fig, ax = plt.subplots(figsize=(12, 6))\n",
    "bar_width = 0.15\n",
    "index = np.arange(len(df_score))\n",
    "\n",
    "for i, metric in enumerate(metric_names):\n",
    "    plt.bar(index + i*bar_width, df_score[metric], bar_width, label=metric)\n",
    "\n",
    "plt.xlabel('Model')\n",
    "plt.ylabel('Score')\n",
    "plt.title('So sánh hiệu quả các mô hình Penguin Party Bot')\n",
    "plt.xticks(index + 2*bar_width, df_score.index)\n",
    "plt.ylim(0, 1.05)\n",
    "plt.legend()\n",
    "plt.tight_layout()\n",
    "plt.show()"
   ]
  },
  {
   "cell_type": "code",
   "execution_count": 25,
   "id": "33fc7ef9",
   "metadata": {},
   "outputs": [
    {
     "name": "stdout",
     "output_type": "stream",
     "text": [
      "Đã lưu model: penguinparty_RandomForest.pkl\n",
      "Đã lưu model: penguinparty_LogisticRegression.pkl\n",
      "Đã lưu model: penguinparty_DecisionTree.pkl\n",
      "Đã lưu model: penguinparty_XGBoost.pkl\n"
     ]
    }
   ],
   "source": [
    "import joblib\n",
    "\n",
    "for name, model in fitted_models.items():\n",
    "    joblib.dump(model, f\"penguinparty_{name}.pkl\")\n",
    "    print(f\"Đã lưu model: penguinparty_{name}.pkl\")"
   ]
  },
  {
   "cell_type": "markdown",
   "id": "0945d6bd",
   "metadata": {},
   "source": [
    "# Metrics Đánh Giá Hiệu Quả Training Penguin Party Bot\n",
    "\n",
    "## Tổng quan bài toán\n",
    "\n",
    "- **Bài toán:** Dự đoán nước đi tốt nhất cho bot trong trò chơi Penguin Party, dưới dạng classification (label = 1 nếu là nước đi thực tế bot chọn, 0 nếu là các nước đi hợp lệ khác).\n",
    "- **Mục tiêu:** Model cho điểm (score/xác suất) với từng nước đi hợp lệ, tối ưu khả năng chọn đúng nước đi mà con người (hoặc random policy ban đầu) đã chọn, từ đó dần tiến đến lựa chọn nước đi tối ưu (tăng xác suất thắng).\n",
    "- **Dữ liệu:** Mỗi sample là một nước đi hợp lệ tại một lượt chơi cụ thể.\n",
    "\n",
    "---\n",
    "\n",
    "## Ý nghĩa các chỉ số đánh giá (metrics)\n",
    "\n",
    "### 1. **Accuracy** (Độ chính xác)\n",
    "- **Định nghĩa:**  \n",
    "  Tỉ lệ số dự đoán đúng trên tổng số sample kiểm tra.\n",
    "- **Công thức:**  \n",
    "  $$ Accuracy = \\frac{TP + TN}{TP + TN + FP + FN} $$\n",
    "- **Ý nghĩa trong bài toán:**  \n",
    "  - Accuracy cao nghĩa là model thường đoán đúng (chọn nước đi thực sự) trong toàn bộ các lựa chọn.  \n",
    "  - Tuy nhiên, vì số label = 1 rất nhỏ so với label = 0 (data mất cân bằng), nên accuracy dễ bị \"ảo\" (model chỉ đoán 0 cũng đã đạt ~99%).\n",
    "\n",
    "---\n",
    "\n",
    "### 2. **Precision** (Độ chính xác dương tính)\n",
    "- **Định nghĩa:**  \n",
    "  Tỉ lệ số nước đi mà model dự đoán là đúng (label = 1), thực sự là đúng.\n",
    "- **Công thức:**  \n",
    "  $$ Precision = \\frac{TP}{TP + FP} $$\n",
    "- **Ý nghĩa:**  \n",
    "  - Precision cao nghĩa là mỗi khi model \"chọn\" một nước đi là tốt nhất, thì xác suất cao nó đúng thật sự.\n",
    "  - Tránh việc model đoán bừa nhiều 1 (nước đi thật), gây ra nhiều lỗi sai.\n",
    "\n",
    "---\n",
    "\n",
    "### 3. **Recall** (Độ phủ dương tính / Nhạy cảm)\n",
    "- **Định nghĩa:**  \n",
    "  Tỉ lệ số nước đi thật sự là đúng (label = 1) mà model dự đoán đúng.\n",
    "- **Công thức:**  \n",
    "  $$ Recall = \\frac{TP}{TP + FN} $$\n",
    "- **Ý nghĩa:**  \n",
    "  - Recall cao nghĩa là model không bỏ sót các nước đi đúng thật sự.\n",
    "  - Phù hợp cho bài toán mà việc bỏ lỡ nước đi \"đúng\" là nghiêm trọng.\n",
    "\n",
    "---\n",
    "\n",
    "### 4. **F1-Score**\n",
    "- **Định nghĩa:**  \n",
    "  Trung bình điều hòa giữa Precision và Recall.\n",
    "- **Công thức:**  \n",
    "  $$ F1 = 2 \\cdot \\frac{Precision \\cdot Recall}{Precision + Recall} $$\n",
    "- **Ý nghĩa:**  \n",
    "  - F1-score cân bằng giữa Precision và Recall, phù hợp cho bài toán mất cân bằng nhãn như hiện tại.\n",
    "  - F1 cao nghĩa là model vừa không đoán bừa, vừa không bỏ sót.\n",
    "\n",
    "---\n",
    "\n",
    "### 5. **ROC-AUC** (Area Under the Curve of Receiver Operating Characteristic)\n",
    "- **Định nghĩa:**  \n",
    "  Đo lường khả năng phân biệt giữa 2 lớp (label 0 và 1) của model dựa trên xác suất (score) mà model dự đoán.\n",
    "- **Giá trị:**  \n",
    "  - 1.0: model hoàn hảo  \n",
    "  - 0.5: model đoán ngẫu nhiên\n",
    "- **Ý nghĩa:**  \n",
    "  - AUC cao chứng tỏ model phân biệt tốt giữa nước đi thực sự và các nước hợp lệ khác.\n",
    "  - Đặc biệt hữu ích khi data mất cân bằng.\n",
    "\n",
    "---\n",
    "\n",
    "## Ý nghĩa thực tế của các chỉ số trong Penguin Party\n",
    "\n",
    "- **Accuracy**: Thường rất cao (do sample mất cân bằng) nhưng chưa hẳn thể hiện khả năng \"chọn đúng nước đi\".\n",
    "- **Precision, Recall, F1**: Làm rõ khả năng model nhận diện chính xác nước đi thật sự (tránh đoán bừa hoặc bỏ sót).\n",
    "- **ROC-AUC**: Giúp đo mức phân biệt khi xét theo xác suất, không phụ thuộc ngưỡng cứng.\n",
    "\n",
    "**=> Khi so sánh các mô hình, nên ưu tiên F1 và ROC-AUC!**\n",
    "\n",
    "---\n",
    "\n",
    "## Thực hành\n",
    "\n",
    "- Khi đánh giá trên tập test, luôn in đủ các chỉ số trên, không chỉ accuracy.\n",
    "- Vẽ biểu đồ so sánh để chọn model phù hợp nhất (trực quan F1, AUC cao là tốt).\n",
    "- Sau này khi dùng model để \"chấm điểm\" các nước đi hợp lệ trong thực chiến, lấy xác suất (proba) cao nhất để chọn nước đi tối ưu."
   ]
  }
 ],
 "metadata": {
  "kernelspec": {
   "display_name": "sad",
   "language": "python",
   "name": "python3"
  },
  "language_info": {
   "codemirror_mode": {
    "name": "ipython",
    "version": 3
   },
   "file_extension": ".py",
   "mimetype": "text/x-python",
   "name": "python",
   "nbconvert_exporter": "python",
   "pygments_lexer": "ipython3",
   "version": "3.10.16"
  }
 },
 "nbformat": 4,
 "nbformat_minor": 5
}
