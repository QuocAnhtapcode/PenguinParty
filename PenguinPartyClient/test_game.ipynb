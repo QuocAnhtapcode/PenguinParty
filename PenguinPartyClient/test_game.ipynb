{
 "cells": [
  {
   "cell_type": "code",
   "execution_count": 1,
   "id": "7dc77bb1",
   "metadata": {},
   "outputs": [
    {
     "name": "stdout",
     "output_type": "stream",
     "text": [
      "Hello Quoc Anh\n"
     ]
    }
   ],
   "source": [
    "print(\"Hello Quoc Anh\")"
   ]
  },
  {
   "cell_type": "code",
   "execution_count": 2,
   "id": "e4ddfeb9",
   "metadata": {},
   "outputs": [],
   "source": [
    "from flask import Flask, render_template_string, request, redirect, url_for, session\n",
    "import random\n",
    "from collections import Counter\n",
    "import threading\n",
    "import time"
   ]
  },
  {
   "cell_type": "code",
   "execution_count": 3,
   "id": "717efb90",
   "metadata": {},
   "outputs": [],
   "source": [
    "class Card:\n",
    "    def __init__(self, color):\n",
    "        self.color = color\n",
    "    def __repr__(self):\n",
    "        return self.color\n",
    "\n",
    "class Player:\n",
    "    def __init__(self, name, hand=None, is_bot=False):\n",
    "        self.name = name\n",
    "        self.hand = hand or []\n",
    "        self.is_bot = is_bot\n",
    "        self.passed = False # Đã dừng chơi (hết nước đi)\n",
    "\n",
    "class Board:\n",
    "    def __init__(self, size):\n",
    "        self.size = size\n",
    "        self.rows = []\n",
    "        for i in range(size):\n",
    "            self.rows.append([None]*(size-i))\n",
    "    def place_card(self, row, col, card):\n",
    "        self.rows[row][col] = card\n",
    "    def display(self):\n",
    "        for i, row in enumerate(self.rows):\n",
    "            print(\"  \" * i + \" \".join([str(c) if c else \".\" for c in row]))"
   ]
  },
  {
   "cell_type": "code",
   "execution_count": 4,
   "id": "59bf3205",
   "metadata": {},
   "outputs": [],
   "source": [
    "def is_valid_move(board, row, col, card):\n",
    "    if row == 0:\n",
    "        return board.rows[row][col] is None\n",
    "    left_below = board.rows[row-1][col]\n",
    "    right_below = board.rows[row-1][col+1]\n",
    "    if left_below is None or right_below is None:\n",
    "        return False\n",
    "    return card.color in [left_below.color, right_below.color]"
   ]
  },
  {
   "cell_type": "code",
   "execution_count": 5,
   "id": "e1343030",
   "metadata": {},
   "outputs": [],
   "source": [
    "def get_all_valid_moves(board, hand):\n",
    "    moves = []\n",
    "    for card in hand:\n",
    "        for row in range(board.size):\n",
    "            for col in range(len(board.rows[row])):\n",
    "                if board.rows[row][col] is None:\n",
    "                    if is_valid_move(board, row, col, card):\n",
    "                        moves.append((card, row, col))\n",
    "    return moves"
   ]
  },
  {
   "cell_type": "code",
   "execution_count": 6,
   "id": "a26eb006",
   "metadata": {},
   "outputs": [],
   "source": [
    "def bot_choose_move(board, hand):\n",
    "    if not hand:\n",
    "        return None\n",
    "    color_count = Counter([card.color for card in hand])\n",
    "    valid_moves = get_all_valid_moves(board, hand)\n",
    "    if not valid_moves:\n",
    "        return None\n",
    "    best_color = color_count.most_common(1)[0][0]\n",
    "    best_moves = [move for move in valid_moves if move[0].color == best_color]\n",
    "    if best_moves:\n",
    "        return best_moves[0]\n",
    "    return valid_moves[0]"
   ]
  },
  {
   "cell_type": "code",
   "execution_count": 7,
   "id": "eb663fda",
   "metadata": {},
   "outputs": [],
   "source": [
    "# Hàm khởi tạo ván chơi mới\n",
    "def init_game():\n",
    "    colors = [\"Đỏ\", \"Xanh\", \"Vàng\", \"Tím\"]\n",
    "    deck = [Card(color) for color in colors for _ in range(6)]\n",
    "    random.shuffle(deck)\n",
    "    board = Board(size=5)\n",
    "    player = Player(\"Bạn\", hand=[deck.pop() for _ in range(8)], is_bot=False)\n",
    "    bot = Player(\"Bot\", hand=[deck.pop() for _ in range(8)], is_bot=True)\n",
    "    return board, player, bot"
   ]
  },
  {
   "cell_type": "code",
   "execution_count": 8,
   "id": "5b999c60",
   "metadata": {},
   "outputs": [],
   "source": [
    "# Hàm chuyển đổi object -> dict để lưu vào session\n",
    "def card_to_dict(card):\n",
    "    return {'color': card.color}\n",
    "def dict_to_card(card_dict):\n",
    "    return Card(card_dict['color'])\n",
    "def board_to_list(board):\n",
    "    return [[c.color if c else None for c in row] for row in board.rows]\n",
    "def list_to_board(board_list):\n",
    "    size = len(board_list)\n",
    "    board = Board(size)\n",
    "    for i, row in enumerate(board_list):\n",
    "        for j, color in enumerate(row):\n",
    "            if color:\n",
    "                board.rows[i][j] = Card(color)\n",
    "    return board"
   ]
  },
  {
   "cell_type": "code",
   "execution_count": 9,
   "id": "2efd3426",
   "metadata": {},
   "outputs": [],
   "source": [
    "TEMPLATE = '''\n",
    "<html>\n",
    "<head>\n",
    "  <title>Penguin Party Web vs Bot</title>\n",
    "  <style>\n",
    "    body { font-family: sans-serif; }\n",
    "    .board-row { margin-left: 20px; }\n",
    "    .card { display: inline-block; width: 60px; height: 80px; border: 1px solid #ccc; margin: 2px; text-align: center; line-height: 80px; font-weight: bold;}\n",
    "    .Đỏ { background: #f88;}\n",
    "    .Xanh { background: #8ef;}\n",
    "    .Vàng { background: #ff8;}\n",
    "    .Tím { background: #c9f;}\n",
    "    .empty { background: #fff;}\n",
    "    .btn { margin: 2px; }\n",
    "  </style>\n",
    "</head>\n",
    "<body>\n",
    "  <h2>Penguin Party Web vs Bot</h2>\n",
    "  <h3>Bàn chơi:</h3>\n",
    "  {% set size = board|length %}\n",
    "  {% for i in range(size) %}\n",
    "    <div class=\"board-row\" style=\"margin-left:{{ (size-i-1)*32 }}px;\">\n",
    "      {% for card in board[size-i-1] %}\n",
    "        <span class=\"card {{card if card else 'empty'}}\">{{ card if card else '' }}</span>\n",
    "      {% endfor %}\n",
    "    </div>\n",
    "  {% endfor %}\n",
    "  <hr>\n",
    "  <h3>Bài của bạn (chọn lá và vị trí để đánh):</h3>\n",
    "  <form method=\"POST\">\n",
    "    {% for idx in range(hand|length) %}\n",
    "      <button class=\"btn\" name=\"card_idx\" value=\"{{idx}}\">{{ hand[idx].color }}</button>\n",
    "    {% endfor %}\n",
    "    <br><br>\n",
    "    <label>Hàng (0 = dưới cùng): <input name=\"row\" type=\"number\" min=\"0\" max=\"4\" value=\"0\"></label>\n",
    "    <label>Cột: <input name=\"col\" type=\"number\" min=\"0\" max=\"4\" value=\"0\"></label>\n",
    "  </form>\n",
    "  <hr>\n",
    "  <h4>Bài còn lại của Bot: {{bot_hand_count}}</h4>\n",
    "  {% if msg %}<b>{{msg}}</b>{% endif %}\n",
    "  <br>\n",
    "  <form method=\"POST\" action=\"/reset\">\n",
    "    <button>Chơi lại</button>\n",
    "  </form>\n",
    "</body>\n",
    "</html>\n",
    "'''\n"
   ]
  },
  {
   "cell_type": "code",
   "execution_count": 10,
   "id": "60152277",
   "metadata": {},
   "outputs": [],
   "source": [
    "app = Flask(__name__)\n",
    "app.secret_key = \"QuocAnhtapcode\" \n",
    "\n",
    "@app.route(\"/\", methods=[\"GET\", \"POST\"])\n",
    "def game():\n",
    "    # Lấy trạng thái từ session hoặc khởi tạo mới\n",
    "    if \"board\" not in session:\n",
    "        board, player, bot = init_game()\n",
    "        session['board'] = board_to_list(board)\n",
    "        session['player_hand'] = [card_to_dict(c) for c in player.hand]\n",
    "        session['bot_hand'] = [card_to_dict(c) for c in bot.hand]\n",
    "        session['player_passed'] = False\n",
    "        session['bot_passed'] = False\n",
    "        msg = \"\"\n",
    "    else:\n",
    "        board = list_to_board(session['board'])\n",
    "        player = Player(\"Bạn\", hand=[dict_to_card(c) for c in session['player_hand']])\n",
    "        bot = Player(\"Bot\", hand=[dict_to_card(c) for c in session['bot_hand']], is_bot=True)\n",
    "        player.passed = session['player_passed']\n",
    "        bot.passed = session['bot_passed']\n",
    "        msg = \"\"\n",
    "\n",
    "    # Xử lý nước đi của người chơi\n",
    "    if request.method == \"POST\" and \"card_idx\" in request.form:\n",
    "        try:\n",
    "            card_idx = int(request.form[\"card_idx\"])\n",
    "            row = int(request.form[\"row\"])\n",
    "            col = int(request.form[\"col\"])\n",
    "            card = player.hand[card_idx]\n",
    "            if board.rows[row][col] is not None:\n",
    "                msg = \"Vị trí này đã có bài rồi!\"\n",
    "            elif is_valid_move(board, row, col, card):\n",
    "                board.place_card(row, col, card)\n",
    "                player.hand.pop(card_idx)\n",
    "                # Lượt của bot sau khi bạn đi\n",
    "                valid_bot_moves = get_all_valid_moves(board, bot.hand)\n",
    "                if valid_bot_moves:\n",
    "                    bot_move = bot_choose_move(board, bot.hand)\n",
    "                    if bot_move:\n",
    "                        bot_card, bot_row, bot_col = bot_move\n",
    "                        board.place_card(bot_row, bot_col, bot_card)\n",
    "                        bot.hand.remove(bot_card)\n",
    "                        msg = f\"Bạn đặt {card.color} ({row},{col}). Bot đặt {bot_card.color} ({bot_row},{bot_col})\"\n",
    "                else:\n",
    "                    session['bot_passed'] = True\n",
    "                    msg = \"Bot không còn nước đi hợp lệ, dừng chơi!\"\n",
    "            else:\n",
    "                msg = \"Nước đi không hợp lệ theo luật Penguin Party!\"\n",
    "        except Exception as e:\n",
    "            msg = \"Có lỗi: \" + str(e)\n",
    "\n",
    "    # Kiểm tra kết thúc game\n",
    "    if not player.hand:\n",
    "        msg += \" Bạn đã thắng! \"\n",
    "    elif not bot.hand:\n",
    "        msg += \" Bot đã thắng! \"\n",
    "    elif not get_all_valid_moves(board, player.hand):\n",
    "        session['player_passed'] = True\n",
    "        msg += \" Bạn không còn nước đi hợp lệ, dừng chơi! \"\n",
    "\n",
    "    # Lưu trạng thái lại\n",
    "    session['board'] = board_to_list(board)\n",
    "    session['player_hand'] = [card_to_dict(c) for c in player.hand]\n",
    "    session['bot_hand'] = [card_to_dict(c) for c in bot.hand]\n",
    "    session['player_passed'] = player.passed\n",
    "    session['bot_passed'] = bot.passed\n",
    "\n",
    "    return render_template_string(TEMPLATE, board=board_to_list(board),\n",
    "                                 hand=player.hand, bot_hand_count=len(bot.hand), msg=msg)\n",
    "\n",
    "@app.route(\"/reset\", methods=[\"POST\"])\n",
    "def reset():\n",
    "    session.clear()\n",
    "    return redirect(url_for('game'))\n"
   ]
  },
  {
   "cell_type": "code",
   "execution_count": null,
   "id": "aabe6dea",
   "metadata": {},
   "outputs": [
    {
     "name": "stdout",
     "output_type": "stream",
     "text": [
      " * Serving Flask app '__main__'\n",
      " * Debug mode: off\n"
     ]
    },
    {
     "name": "stderr",
     "output_type": "stream",
     "text": [
      "WARNING: This is a development server. Do not use it in a production deployment. Use a production WSGI server instead.\n",
      " * Running on http://127.0.0.1:5000\n",
      "Press CTRL+C to quit\n",
      "127.0.0.1 - - [07/Jul/2025 09:27:32] \"GET / HTTP/1.1\" 200 -\n",
      "127.0.0.1 - - [07/Jul/2025 09:27:32] \"GET /favicon.ico HTTP/1.1\" 404 -\n",
      "127.0.0.1 - - [07/Jul/2025 09:27:53] \"POST / HTTP/1.1\" 200 -\n",
      "127.0.0.1 - - [07/Jul/2025 09:28:15] \"POST / HTTP/1.1\" 200 -\n",
      "127.0.0.1 - - [07/Jul/2025 09:28:22] \"POST / HTTP/1.1\" 200 -\n",
      "127.0.0.1 - - [07/Jul/2025 09:28:28] \"POST / HTTP/1.1\" 200 -\n",
      "127.0.0.1 - - [07/Jul/2025 09:28:54] \"POST / HTTP/1.1\" 200 -\n"
     ]
    }
   ],
   "source": [
    "def run_app():\n",
    "    app.run()\n",
    "    \n",
    "threading.Thread(target=run_app).start()"
   ]
  }
 ],
 "metadata": {
  "kernelspec": {
   "display_name": "sad",
   "language": "python",
   "name": "python3"
  },
  "language_info": {
   "codemirror_mode": {
    "name": "ipython",
    "version": 3
   },
   "file_extension": ".py",
   "mimetype": "text/x-python",
   "name": "python",
   "nbconvert_exporter": "python",
   "pygments_lexer": "ipython3",
   "version": "3.10.16"
  }
 },
 "nbformat": 4,
 "nbformat_minor": 5
}
